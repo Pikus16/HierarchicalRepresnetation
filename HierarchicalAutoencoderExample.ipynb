{
 "cells": [
  {
   "cell_type": "code",
   "execution_count": 1,
   "metadata": {},
   "outputs": [],
   "source": [
    "# imports\n",
    "import torch\n",
    "from torch import nn\n",
    "from torchvision.datasets import CIFAR100\n",
    "from torchvision import transforms\n",
    "#from torchsummary import summary\n",
    "from torch.utils.tensorboard import SummaryWriter"
   ]
  },
  {
   "cell_type": "code",
   "execution_count": 2,
   "metadata": {},
   "outputs": [],
   "source": [
    "class OneUpOneDownAutoencoder(nn.Module):\n",
    "    \n",
    "    def __init__(self, in_channels, \n",
    "                out_channels,\n",
    "                kernel_size = 3,\n",
    "                stride = 1,\n",
    "                padding=0):\n",
    "        super(OneUpOneDownAutoencoder, self).__init__()\n",
    "        self.in_channels = in_channels\n",
    "        self.out_channels = out_channels\n",
    "        \n",
    "        self.encoder = nn.Sequential(\n",
    "            nn.Conv2d(in_channels = self.in_channels, \n",
    "                      out_channels = self.out_channels,\n",
    "                      kernel_size = kernel_size, \n",
    "                      stride = stride, \n",
    "                      padding = padding), \n",
    "            nn.ReLU(True),\n",
    "            # Maybe add pooling here\n",
    "        ) # output shape = (N, out_channels, H*, W*)\n",
    "        \n",
    "        self.decoder = nn.Sequential(\n",
    "            nn.ConvTranspose2d(in_channels = self.out_channels, \n",
    "                out_channels = self.in_channels,\n",
    "                kernel_size = kernel_size, \n",
    "                stride=stride,\n",
    "                padding = padding,\n",
    "                output_padding=padding),\n",
    "            nn.ReLU(True),\n",
    "        )  # output shape = (N, in_channels, H, W)\n",
    "        \n",
    "    def forward(self, x):\n",
    "        encoded = self.encoder(x)\n",
    "        decoded = self.decoder(encoded)\n",
    "        return encoded, decoded"
   ]
  },
  {
   "cell_type": "code",
   "execution_count": 3,
   "metadata": {},
   "outputs": [],
   "source": [
    "class SimpleDecoderLayer(nn.Module):\n",
    "    \n",
    "    def __init__(self, in_channels, out_channels, \n",
    "                 kernel_size = 3,\n",
    "                 stride=1,\n",
    "                 padding=0):\n",
    "        super(SimpleDecoderLayer, self).__init__()\n",
    "        self.decoder = nn.Sequential(\n",
    "            nn.ConvTranspose2d(in_channels = in_channels, \n",
    "                out_channels = out_channels,\n",
    "                kernel_size = kernel_size,\n",
    "                stride = stride,\n",
    "                padding = padding,\n",
    "                output_padding = padding),\n",
    "            nn.ReLU(True),\n",
    "        )  # output shape = (N, in_channels, H, W)\n",
    "        \n",
    "    def forward(self, x):\n",
    "        return self.decoder(x)"
   ]
  },
  {
   "cell_type": "code",
   "execution_count": 4,
   "metadata": {},
   "outputs": [],
   "source": [
    "class HierarchicalAutoencoder(nn.Module):\n",
    "    def __init__(self, encoder_layer_func, \n",
    "                 decoder_layer_func,\n",
    "                 num_layers,\n",
    "                 input_size,\n",
    "                 output_sizes = [],\n",
    "                 stride = 1,\n",
    "                 padding = 0):\n",
    "        super(HierarchicalAutoencoder, self).__init__()\n",
    "        \n",
    "        if type(output_sizes) is int:\n",
    "            output_sizes = [output_sizes]\n",
    "            \n",
    "        \n",
    "        self.encoder_layers = nn.ModuleList()\n",
    "        for i in range(num_layers):\n",
    "            if i >= len(output_sizes):\n",
    "                output_size = input_size * 2\n",
    "            else:\n",
    "                output_size = output_sizes[i]\n",
    "                \n",
    "            instantiated_encoder = encoder_layer_func(\n",
    "                in_channels = input_size,\n",
    "                out_channels = output_size,\n",
    "                stride = stride,\n",
    "                padding = padding\n",
    "            )\n",
    "            self.encoder_layers.append(instantiated_encoder)\n",
    "            \n",
    "            input_size = output_size\n",
    "    \n",
    "        self.decoder_layers = nn.ModuleList()\n",
    "        for i in range(num_layers):\n",
    "            input_size = self.encoder_layers[num_layers - i - 1].out_channels\n",
    "            output_size = self.encoder_layers[num_layers - i - 1].in_channels\n",
    "            instantiated_decoder = decoder_layer_func(\n",
    "                in_channels = input_size,\n",
    "                out_channels = output_size,\n",
    "                stride = stride,\n",
    "                padding =padding\n",
    "            )\n",
    "            self.decoder_layers.append(instantiated_decoder)\n",
    "        \n",
    "        #self.encoder = nn.Sequential(*self.encoder_layers)\n",
    "        #self.decoder = nn.Sequential(*self.decoder_layers)\n",
    "            \n",
    "    def forward(self, x):\n",
    "        for layer in self.encoder_layers:\n",
    "            x, _ = layer(x)\n",
    "            \n",
    "        encoded = x\n",
    "        for layer in self.decoder_layers:\n",
    "            x = layer(x)\n",
    "            \n",
    "        decoded = x\n",
    "        return encoded, decoded"
   ]
  },
  {
   "cell_type": "code",
   "execution_count": 5,
   "metadata": {},
   "outputs": [
    {
     "data": {
      "text/plain": [
       "torch.Size([4, 3, 224, 224])"
      ]
     },
     "execution_count": 5,
     "metadata": {},
     "output_type": "execute_result"
    }
   ],
   "source": [
    "dummy_input = torch.ones([4,3,224,224])\n",
    "dummy_input.shape"
   ]
  },
  {
   "cell_type": "code",
   "execution_count": 6,
   "metadata": {},
   "outputs": [],
   "source": [
    "model = OneUpOneDownAutoencoder(3, 16, padding = 1, stride = 2)"
   ]
  },
  {
   "cell_type": "code",
   "execution_count": 7,
   "metadata": {},
   "outputs": [
    {
     "data": {
      "text/plain": [
       "(torch.Size([4, 3, 224, 224]),\n",
       " torch.Size([4, 16, 112, 112]),\n",
       " torch.Size([4, 3, 224, 224]))"
      ]
     },
     "execution_count": 7,
     "metadata": {},
     "output_type": "execute_result"
    }
   ],
   "source": [
    "encoded, decoded = model(dummy_input)\n",
    "dummy_input.shape, encoded.shape, decoded.shape"
   ]
  },
  {
   "cell_type": "code",
   "execution_count": 8,
   "metadata": {},
   "outputs": [],
   "source": [
    "model = HierarchicalAutoencoder(OneUpOneDownAutoencoder, SimpleDecoderLayer, 3, 3, output_sizes=32, stride = 2, padding = 1)"
   ]
  },
  {
   "cell_type": "code",
   "execution_count": 9,
   "metadata": {},
   "outputs": [
    {
     "data": {
      "text/plain": [
       "(torch.Size([4, 3, 224, 224]),\n",
       " torch.Size([4, 128, 28, 28]),\n",
       " torch.Size([4, 3, 224, 224]))"
      ]
     },
     "execution_count": 9,
     "metadata": {},
     "output_type": "execute_result"
    }
   ],
   "source": [
    "encoded, decoded = model(dummy_input)\n",
    "dummy_input.shape, encoded.shape, decoded.shape"
   ]
  },
  {
   "cell_type": "code",
   "execution_count": 10,
   "metadata": {},
   "outputs": [],
   "source": [
    "model = model.cuda()#summary(model.cuda(), (3,224,224))"
   ]
  },
  {
   "cell_type": "code",
   "execution_count": 11,
   "metadata": {},
   "outputs": [],
   "source": [
    "num_epochs = 100\n",
    "batch_size = 64\n",
    "learning_rate = 1e-3"
   ]
  },
  {
   "cell_type": "code",
   "execution_count": 12,
   "metadata": {},
   "outputs": [
    {
     "name": "stdout",
     "output_type": "stream",
     "text": [
      "Files already downloaded and verified\n"
     ]
    },
    {
     "data": {
      "text/plain": [
       "50000"
      ]
     },
     "execution_count": 12,
     "metadata": {},
     "output_type": "execute_result"
    }
   ],
   "source": [
    "dataset = CIFAR100(\n",
    "    '/data/standard_datasets/cifar100',\n",
    "    download=True,\n",
    "    train = True,\n",
    "    transform=transforms.Compose([\n",
    "        transforms.Resize(224),\n",
    "        transforms.ToTensor(),\n",
    "        transforms.Normalize(mean=[0.485, 0.456, 0.406], std=[0.229, 0.224, 0.225])\n",
    "    ])\n",
    ")\n",
    "len(dataset)"
   ]
  },
  {
   "cell_type": "code",
   "execution_count": 13,
   "metadata": {},
   "outputs": [],
   "source": [
    "dataloader = torch.utils.data.DataLoader(dataset, batch_size=batch_size, shuffle=True)"
   ]
  },
  {
   "cell_type": "code",
   "execution_count": 14,
   "metadata": {},
   "outputs": [],
   "source": [
    "criterion = nn.MSELoss()\n",
    "optimizer = torch.optim.Adam(model.parameters(), lr=learning_rate,\n",
    "                             weight_decay=1e-5)"
   ]
  },
  {
   "cell_type": "code",
   "execution_count": 17,
   "metadata": {},
   "outputs": [],
   "source": [
    "# setup tensorboard\n",
    "writer = SummaryWriter('runs/just_one_loss/cifar100')\n",
    "writer.add_graph(model, dummy_input.cuda())"
   ]
  },
  {
   "cell_type": "code",
   "execution_count": 18,
   "metadata": {},
   "outputs": [
    {
     "name": "stdout",
     "output_type": "stream",
     "text": [
      "epoch [1/100], loss:0.6873\n"
     ]
    },
    {
     "ename": "KeyboardInterrupt",
     "evalue": "",
     "output_type": "error",
     "traceback": [
      "\u001b[0;31m---------------------------------------------------------------------------\u001b[0m",
      "\u001b[0;31mKeyboardInterrupt\u001b[0m                         Traceback (most recent call last)",
      "\u001b[0;32m<ipython-input-18-e83f25e3d92a>\u001b[0m in \u001b[0;36m<module>\u001b[0;34m\u001b[0m\n\u001b[1;32m     13\u001b[0m         \u001b[0moptimizer\u001b[0m\u001b[0;34m.\u001b[0m\u001b[0mstep\u001b[0m\u001b[0;34m(\u001b[0m\u001b[0;34m)\u001b[0m\u001b[0;34m\u001b[0m\u001b[0;34m\u001b[0m\u001b[0m\n\u001b[1;32m     14\u001b[0m         \u001b[0;31m# tensorboard\u001b[0m\u001b[0;34m\u001b[0m\u001b[0;34m\u001b[0m\u001b[0;34m\u001b[0m\u001b[0m\n\u001b[0;32m---> 15\u001b[0;31m         \u001b[0mrunning_loss\u001b[0m \u001b[0;34m+=\u001b[0m \u001b[0mloss\u001b[0m\u001b[0;34m.\u001b[0m\u001b[0mitem\u001b[0m\u001b[0;34m(\u001b[0m\u001b[0;34m)\u001b[0m\u001b[0;34m\u001b[0m\u001b[0;34m\u001b[0m\u001b[0m\n\u001b[0m\u001b[1;32m     16\u001b[0m         \u001b[0;32mif\u001b[0m \u001b[0mi\u001b[0m \u001b[0;34m%\u001b[0m \u001b[0;36m100\u001b[0m \u001b[0;34m==\u001b[0m \u001b[0;36m0\u001b[0m\u001b[0;34m:\u001b[0m\u001b[0;34m\u001b[0m\u001b[0;34m\u001b[0m\u001b[0m\n\u001b[1;32m     17\u001b[0m             writer.add_scalar('training loss',\n",
      "\u001b[0;31mKeyboardInterrupt\u001b[0m: "
     ]
    }
   ],
   "source": [
    "# train\n",
    "running_loss = 0.0\n",
    "for epoch in range(num_epochs):\n",
    "    for i,data in enumerate(dataloader):\n",
    "        img, _ = data\n",
    "        img = torch.autograd.Variable(img).cuda()\n",
    "        # ===================forward=====================\n",
    "        _,output = model(img)\n",
    "        loss = criterion(output, img)\n",
    "        # ===================backward====================\n",
    "        optimizer.zero_grad()\n",
    "        loss.backward()\n",
    "        optimizer.step()\n",
    "        # tensorboard\n",
    "        running_loss += loss.item()\n",
    "        if i % 100 == 0:\n",
    "            writer.add_scalar('training loss',\n",
    "                running_loss,\n",
    "                epoch * len(dataloader) + i)\n",
    "    # ===================log========================\n",
    "    \n",
    "    print('epoch [{}/{}], loss:{:.4f}'.format(epoch+1, num_epochs, loss.data))"
   ]
  },
  {
   "cell_type": "code",
   "execution_count": null,
   "metadata": {},
   "outputs": [],
   "source": []
  }
 ],
 "metadata": {
  "kernelspec": {
   "display_name": "Python 3",
   "language": "python",
   "name": "python3"
  },
  "language_info": {
   "codemirror_mode": {
    "name": "ipython",
    "version": 3
   },
   "file_extension": ".py",
   "mimetype": "text/x-python",
   "name": "python",
   "nbconvert_exporter": "python",
   "pygments_lexer": "ipython3",
   "version": "3.8.6"
  }
 },
 "nbformat": 4,
 "nbformat_minor": 4
}
