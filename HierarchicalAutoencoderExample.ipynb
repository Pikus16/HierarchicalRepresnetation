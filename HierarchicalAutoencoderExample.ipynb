{
 "cells": [
  {
   "cell_type": "code",
   "execution_count": 295,
   "metadata": {},
   "outputs": [],
   "source": [
    "# imports\n",
    "import torch\n",
    "from torch import nn\n",
    "from torchvision.datasets import CIFAR100\n",
    "from torchvision import transforms\n",
    "from torchsummary import summary\n",
    "from torch.utils.tensorboard import SummaryWriter"
   ]
  },
  {
   "cell_type": "code",
   "execution_count": 272,
   "metadata": {},
   "outputs": [],
   "source": [
    "class OneUpOneDownAutoencoder(nn.Module):\n",
    "    \n",
    "    def __init__(self, in_channels, \n",
    "                out_channels,\n",
    "                kernel_size = 3,\n",
    "                stride = 1,\n",
    "                padding=0):\n",
    "        super(OneUpOneDownAutoencoder, self).__init__()\n",
    "        self.in_channels = in_channels\n",
    "        self.out_channels = out_channels\n",
    "        \n",
    "        self.encoder = nn.Sequential(\n",
    "            nn.Conv2d(in_channels = self.in_channels, \n",
    "                      out_channels = self.out_channels,\n",
    "                      kernel_size = kernel_size, \n",
    "                      stride = stride, \n",
    "                      padding = padding), \n",
    "            nn.ReLU(True),\n",
    "            # Maybe add pooling here\n",
    "        ) # output shape = (N, out_channels, H*, W*)\n",
    "        \n",
    "        self.decoder = nn.Sequential(\n",
    "            nn.ConvTranspose2d(in_channels = self.out_channels, \n",
    "                out_channels = self.in_channels,\n",
    "                kernel_size = kernel_size, \n",
    "                stride=stride,\n",
    "                padding = padding,\n",
    "                output_padding=padding),\n",
    "            nn.ReLU(True),\n",
    "        )  # output shape = (N, in_channels, H, W)\n",
    "        \n",
    "    def forward(self, x):\n",
    "        encoded = self.encoder(x)\n",
    "        decoded = self.decoder(encoded)\n",
    "        return encoded, decoded"
   ]
  },
  {
   "cell_type": "code",
   "execution_count": 283,
   "metadata": {},
   "outputs": [],
   "source": [
    "class SimpleDecoderLayer(nn.Module):\n",
    "    \n",
    "    def __init__(self, in_channels, out_channels, \n",
    "                 kernel_size = 3,\n",
    "                 stride=1,\n",
    "                 padding=0):\n",
    "        super(SimpleDecoderLayer, self).__init__()\n",
    "        self.decoder = nn.Sequential(\n",
    "            nn.ConvTranspose2d(in_channels = in_channels, \n",
    "                out_channels = out_channels,\n",
    "                kernel_size = kernel_size,\n",
    "                stride = stride,\n",
    "                padding = padding,\n",
    "                output_padding = padding),\n",
    "            nn.ReLU(True),\n",
    "        )  # output shape = (N, in_channels, H, W)\n",
    "        \n",
    "    def forward(self, x):\n",
    "        return self.decoder(x)"
   ]
  },
  {
   "cell_type": "code",
   "execution_count": 284,
   "metadata": {},
   "outputs": [],
   "source": [
    "class HierarchicalAutoencoder(nn.Module):\n",
    "    def __init__(self, encoder_layer_func, \n",
    "                 decoder_layer_func,\n",
    "                 num_layers,\n",
    "                 input_size,\n",
    "                 output_sizes = [],\n",
    "                 stride = 1,\n",
    "                 padding = 0):\n",
    "        super(HierarchicalAutoencoder, self).__init__()\n",
    "        \n",
    "        if type(output_sizes) is int:\n",
    "            output_sizes = [output_sizes]\n",
    "            \n",
    "        \n",
    "        self.encoder_layers = nn.ModuleList()\n",
    "        for i in range(num_layers):\n",
    "            if i >= len(output_sizes):\n",
    "                output_size = input_size * 2\n",
    "            else:\n",
    "                output_size = output_sizes[i]\n",
    "                \n",
    "            instantiated_encoder = encoder_layer_func(\n",
    "                in_channels = input_size,\n",
    "                out_channels = output_size,\n",
    "                stride = stride,\n",
    "                padding = padding\n",
    "            )\n",
    "            self.encoder_layers.append(instantiated_encoder)\n",
    "            \n",
    "            input_size = output_size\n",
    "    \n",
    "        self.decoder_layers = nn.ModuleList()\n",
    "        for i in range(num_layers):\n",
    "            input_size = self.encoder_layers[num_layers - i - 1].out_channels\n",
    "            output_size = self.encoder_layers[num_layers - i - 1].in_channels\n",
    "            instantiated_decoder = decoder_layer_func(\n",
    "                in_channels = input_size,\n",
    "                out_channels = output_size,\n",
    "                stride = stride,\n",
    "                padding =padding\n",
    "            )\n",
    "            self.decoder_layers.append(instantiated_decoder)\n",
    "        \n",
    "        #self.encoder = nn.Sequential(*self.encoder_layers)\n",
    "        #self.decoder = nn.Sequential(*self.decoder_layers)\n",
    "            \n",
    "    def forward(self, x):\n",
    "        for layer in self.encoder_layers:\n",
    "            x, _ = layer(x)\n",
    "            \n",
    "        encoded = x\n",
    "        for layer in self.decoder_layers:\n",
    "            x = layer(x)\n",
    "            \n",
    "        decoded = x\n",
    "        return encoded, decoded"
   ]
  },
  {
   "cell_type": "code",
   "execution_count": 243,
   "metadata": {},
   "outputs": [
    {
     "data": {
      "text/plain": [
       "torch.Size([4, 3, 224, 224])"
      ]
     },
     "execution_count": 243,
     "metadata": {},
     "output_type": "execute_result"
    }
   ],
   "source": [
    "dummy_input = torch.ones([4,3,224,224])\n",
    "dummy_input.shape"
   ]
  },
  {
   "cell_type": "code",
   "execution_count": 276,
   "metadata": {},
   "outputs": [],
   "source": [
    "model = OneUpOneDownAutoencoder(3, 16, padding = 1, stride = 2)"
   ]
  },
  {
   "cell_type": "code",
   "execution_count": 277,
   "metadata": {},
   "outputs": [
    {
     "data": {
      "text/plain": [
       "(torch.Size([4, 3, 224, 224]),\n",
       " torch.Size([4, 16, 112, 112]),\n",
       " torch.Size([4, 3, 224, 224]))"
      ]
     },
     "execution_count": 277,
     "metadata": {},
     "output_type": "execute_result"
    }
   ],
   "source": [
    "encoded, decoded = model(dummy_input)\n",
    "dummy_input.shape, encoded.shape, decoded.shape"
   ]
  },
  {
   "cell_type": "code",
   "execution_count": 285,
   "metadata": {},
   "outputs": [],
   "source": [
    "model = HierarchicalAutoencoder(OneUpOneDownAutoencoder, SimpleDecoderLayer, 3, 3, output_sizes=32, stride = 2, padding = 1)"
   ]
  },
  {
   "cell_type": "code",
   "execution_count": 286,
   "metadata": {},
   "outputs": [
    {
     "data": {
      "text/plain": [
       "(torch.Size([4, 3, 224, 224]),\n",
       " torch.Size([4, 128, 28, 28]),\n",
       " torch.Size([4, 3, 224, 224]))"
      ]
     },
     "execution_count": 286,
     "metadata": {},
     "output_type": "execute_result"
    }
   ],
   "source": [
    "encoded, decoded = model(dummy_input)\n",
    "dummy_input.shape, encoded.shape, decoded.shape"
   ]
  },
  {
   "cell_type": "code",
   "execution_count": 287,
   "metadata": {},
   "outputs": [
    {
     "name": "stdout",
     "output_type": "stream",
     "text": [
      "----------------------------------------------------------------\n",
      "        Layer (type)               Output Shape         Param #\n",
      "================================================================\n",
      "            Conv2d-1         [-1, 32, 112, 112]             896\n",
      "              ReLU-2         [-1, 32, 112, 112]               0\n",
      "   ConvTranspose2d-3          [-1, 3, 224, 224]             867\n",
      "              ReLU-4          [-1, 3, 224, 224]               0\n",
      "OneUpOneDownAutoencoder-5  [[-1, 32, 112, 112], [-1, 3, 224, 224]]               0\n",
      "            Conv2d-6           [-1, 64, 56, 56]          18,496\n",
      "              ReLU-7           [-1, 64, 56, 56]               0\n",
      "   ConvTranspose2d-8         [-1, 32, 112, 112]          18,464\n",
      "              ReLU-9         [-1, 32, 112, 112]               0\n",
      "OneUpOneDownAutoencoder-10  [[-1, 64, 56, 56], [-1, 32, 112, 112]]               0\n",
      "           Conv2d-11          [-1, 128, 28, 28]          73,856\n",
      "             ReLU-12          [-1, 128, 28, 28]               0\n",
      "  ConvTranspose2d-13           [-1, 64, 56, 56]          73,792\n",
      "             ReLU-14           [-1, 64, 56, 56]               0\n",
      "OneUpOneDownAutoencoder-15  [[-1, 128, 28, 28], [-1, 64, 56, 56]]               0\n",
      "  ConvTranspose2d-16           [-1, 64, 56, 56]          73,792\n",
      "             ReLU-17           [-1, 64, 56, 56]               0\n",
      "SimpleDecoderLayer-18           [-1, 64, 56, 56]               0\n",
      "  ConvTranspose2d-19         [-1, 32, 112, 112]          18,464\n",
      "             ReLU-20         [-1, 32, 112, 112]               0\n",
      "SimpleDecoderLayer-21         [-1, 32, 112, 112]               0\n",
      "  ConvTranspose2d-22          [-1, 3, 224, 224]             867\n",
      "             ReLU-23          [-1, 3, 224, 224]               0\n",
      "SimpleDecoderLayer-24          [-1, 3, 224, 224]               0\n",
      "================================================================\n",
      "Total params: 279,494\n",
      "Trainable params: 279,494\n",
      "Non-trainable params: 0\n",
      "----------------------------------------------------------------\n",
      "Input size (MB): 0.57\n",
      "Forward/backward pass size (MB): 1229272.57\n",
      "Params size (MB): 1.07\n",
      "Estimated Total Size (MB): 1229274.21\n",
      "----------------------------------------------------------------\n"
     ]
    }
   ],
   "source": [
    "summary(model.cuda(), (3,224,224))"
   ]
  },
  {
   "cell_type": "code",
   "execution_count": 288,
   "metadata": {},
   "outputs": [],
   "source": [
    "num_epochs = 1\n",
    "batch_size = 16\n",
    "learning_rate = 1e-3"
   ]
  },
  {
   "cell_type": "code",
   "execution_count": 289,
   "metadata": {},
   "outputs": [
    {
     "name": "stdout",
     "output_type": "stream",
     "text": [
      "Files already downloaded and verified\n"
     ]
    },
    {
     "data": {
      "text/plain": [
       "50000"
      ]
     },
     "execution_count": 289,
     "metadata": {},
     "output_type": "execute_result"
    }
   ],
   "source": [
    "dataset = CIFAR100(\n",
    "    '/data/cifar100',\n",
    "    download=True,\n",
    "    train = True,\n",
    "    transform=transforms.Compose([\n",
    "        transforms.Resize(224),\n",
    "        transforms.ToTensor(),\n",
    "        transforms.Normalize(mean=[0.485, 0.456, 0.406], std=[0.229, 0.224, 0.225])\n",
    "    ])\n",
    ")\n",
    "len(dataset)"
   ]
  },
  {
   "cell_type": "code",
   "execution_count": 290,
   "metadata": {},
   "outputs": [],
   "source": [
    "dataloader = torch.utils.data.DataLoader(dataset, batch_size=batch_size, shuffle=True)"
   ]
  },
  {
   "cell_type": "code",
   "execution_count": 291,
   "metadata": {},
   "outputs": [],
   "source": [
    "criterion = nn.MSELoss()\n",
    "optimizer = torch.optim.Adam(model.parameters(), lr=learning_rate,\n",
    "                             weight_decay=1e-5)"
   ]
  },
  {
   "cell_type": "code",
   "execution_count": null,
   "metadata": {},
   "outputs": [],
   "source": [
    "# setup tensorboard\n",
    "writer = SummaryWriter('runs/just_one_loss/cifar100')\n",
    "wrtier.add_graph(model, dummy_input)"
   ]
  },
  {
   "cell_type": "code",
   "execution_count": 292,
   "metadata": {},
   "outputs": [
    {
     "ename": "KeyboardInterrupt",
     "evalue": "",
     "output_type": "error",
     "traceback": [
      "\u001b[0;31m---------------------------------------------------------------------------\u001b[0m",
      "\u001b[0;31mKeyboardInterrupt\u001b[0m                         Traceback (most recent call last)",
      "\u001b[0;32m<ipython-input-292-b1d73f54ac5d>\u001b[0m in \u001b[0;36m<module>\u001b[0;34m\u001b[0m\n\u001b[1;32m      4\u001b[0m     \u001b[0;32mfor\u001b[0m \u001b[0mdata\u001b[0m \u001b[0;32min\u001b[0m \u001b[0mdataloader\u001b[0m\u001b[0;34m:\u001b[0m\u001b[0;34m\u001b[0m\u001b[0;34m\u001b[0m\u001b[0m\n\u001b[1;32m      5\u001b[0m         \u001b[0mimg\u001b[0m\u001b[0;34m,\u001b[0m \u001b[0m_\u001b[0m \u001b[0;34m=\u001b[0m \u001b[0mdata\u001b[0m\u001b[0;34m\u001b[0m\u001b[0;34m\u001b[0m\u001b[0m\n\u001b[0;32m----> 6\u001b[0;31m         \u001b[0mimg\u001b[0m \u001b[0;34m=\u001b[0m \u001b[0mtorch\u001b[0m\u001b[0;34m.\u001b[0m\u001b[0mautograd\u001b[0m\u001b[0;34m.\u001b[0m\u001b[0mVariable\u001b[0m\u001b[0;34m(\u001b[0m\u001b[0mimg\u001b[0m\u001b[0;34m)\u001b[0m\u001b[0;34m.\u001b[0m\u001b[0mcuda\u001b[0m\u001b[0;34m(\u001b[0m\u001b[0;34m)\u001b[0m\u001b[0;34m\u001b[0m\u001b[0;34m\u001b[0m\u001b[0m\n\u001b[0m\u001b[1;32m      7\u001b[0m         \u001b[0;31m# ===================forward=====================\u001b[0m\u001b[0;34m\u001b[0m\u001b[0;34m\u001b[0m\u001b[0;34m\u001b[0m\u001b[0m\n\u001b[1;32m      8\u001b[0m         \u001b[0m_\u001b[0m\u001b[0;34m,\u001b[0m\u001b[0moutput\u001b[0m \u001b[0;34m=\u001b[0m \u001b[0mmodel\u001b[0m\u001b[0;34m(\u001b[0m\u001b[0mimg\u001b[0m\u001b[0;34m)\u001b[0m\u001b[0;34m\u001b[0m\u001b[0;34m\u001b[0m\u001b[0m\n",
      "\u001b[0;31mKeyboardInterrupt\u001b[0m: "
     ]
    }
   ],
   "source": [
    "# train\n",
    "running_loss = 0.0\n",
    "for epoch in range(num_epochs):\n",
    "    for i,data in enumerate(dataloader):\n",
    "        img, _ = data\n",
    "        img = torch.autograd.Variable(img).cuda()\n",
    "        # ===================forward=====================\n",
    "        _,output = model(img)\n",
    "        loss = criterion(output, img)\n",
    "        # ===================backward====================\n",
    "        optimizer.zero_grad()\n",
    "        loss.backward()\n",
    "        optimizer.step()\n",
    "        # tensorboard\n",
    "        running_loss += loss.item()\n",
    "        if i % 1000 == 0:\n",
    "            writer.add_scalar('training loss',\n",
    "                running_loss / 1000,\n",
    "                epoch * len(dataloader) + i)\n",
    "    # ===================log========================\n",
    "    \n",
    "    print('epoch [{}/{}], loss:{:.4f}'\n",
    "          .format(epoch+1, num_epochs, loss.data)"
   ]
  }
 ],
 "metadata": {
  "kernelspec": {
   "display_name": "kwpss",
   "language": "python",
   "name": "kwpss"
  },
  "language_info": {
   "codemirror_mode": {
    "name": "ipython",
    "version": 3
   },
   "file_extension": ".py",
   "mimetype": "text/x-python",
   "name": "python",
   "nbconvert_exporter": "python",
   "pygments_lexer": "ipython3",
   "version": "3.8.6"
  }
 },
 "nbformat": 4,
 "nbformat_minor": 4
}
