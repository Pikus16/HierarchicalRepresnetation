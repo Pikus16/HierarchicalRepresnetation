{
 "cells": [
  {
   "cell_type": "code",
   "execution_count": 1,
   "metadata": {},
   "outputs": [],
   "source": [
    "%load_ext autoreload\n",
    "%autoreload 2"
   ]
  },
  {
   "cell_type": "code",
   "execution_count": 19,
   "metadata": {},
   "outputs": [],
   "source": [
    "# imports\n",
    "import torch\n",
    "from torchvision.datasets import CIFAR100\n",
    "from torchvision import transforms\n",
    "from torchsummary import summary\n",
    "from torch.utils.tensorboard import SummaryWriter\n",
    "from sklearn import svm, linear_model\n",
    "import numpy as np\n",
    "import matplotlib.pyplot as plt\n",
    "\n",
    "from models import (\n",
    "    OneUpOneDownAutoencoder,\n",
    "    SimpleDecoderLayer,\n",
    "    HierarchicalAutoencoder\n",
    ")\n",
    "\n",
    "from utils import imshow"
   ]
  },
  {
   "cell_type": "code",
   "execution_count": 4,
   "metadata": {},
   "outputs": [
    {
     "data": {
      "text/plain": [
       "torch.Size([4, 3, 224, 224])"
      ]
     },
     "execution_count": 4,
     "metadata": {},
     "output_type": "execute_result"
    }
   ],
   "source": [
    "dummy_input = torch.ones([4,3,224,224])\n",
    "dummy_input.shape"
   ]
  },
  {
   "cell_type": "code",
   "execution_count": 7,
   "metadata": {},
   "outputs": [
    {
     "data": {
      "text/plain": [
       "(torch.Size([4, 3, 224, 224]),\n",
       " torch.Size([4, 16, 112, 112]),\n",
       " torch.Size([4, 3, 224, 224]))"
      ]
     },
     "execution_count": 7,
     "metadata": {},
     "output_type": "execute_result"
    }
   ],
   "source": [
    "model = OneUpOneDownAutoencoder(3, 16, padding = 1, stride = 2)\n",
    "encoded, decoded = model(dummy_input)\n",
    "dummy_input.shape, encoded.shape, decoded.shape"
   ]
  },
  {
   "cell_type": "code",
   "execution_count": 11,
   "metadata": {},
   "outputs": [
    {
     "data": {
      "text/plain": [
       "(torch.Size([4, 3, 224, 224]),\n",
       " torch.Size([4, 128, 28, 28]),\n",
       " torch.Size([4, 3, 224, 224]))"
      ]
     },
     "execution_count": 11,
     "metadata": {},
     "output_type": "execute_result"
    }
   ],
   "source": [
    "model = HierarchicalAutoencoder(OneUpOneDownAutoencoder, SimpleDecoderLayer, 3, 3, \n",
    "                                output_sizes=32, stride = 2, padding = 1)\n",
    "model.load_state_dict(torch.load(\"initial_model_3layers.pth\"))\n",
    "encoded, decoded = model(dummy_input)\n",
    "dummy_input.shape, encoded.shape, decoded.shape"
   ]
  },
  {
   "cell_type": "code",
   "execution_count": 9,
   "metadata": {},
   "outputs": [
    {
     "name": "stdout",
     "output_type": "stream",
     "text": [
      "----------------------------------------------------------------\n",
      "        Layer (type)               Output Shape         Param #\n",
      "================================================================\n",
      "            Conv2d-1         [-1, 32, 112, 112]             896\n",
      "              ReLU-2         [-1, 32, 112, 112]               0\n",
      "   ConvTranspose2d-3          [-1, 3, 224, 224]             867\n",
      "              ReLU-4          [-1, 3, 224, 224]               0\n",
      "OneUpOneDownAutoencoder-5  [[-1, 32, 112, 112], [-1, 3, 224, 224]]               0\n",
      "            Conv2d-6           [-1, 64, 56, 56]          18,496\n",
      "              ReLU-7           [-1, 64, 56, 56]               0\n",
      "   ConvTranspose2d-8         [-1, 32, 112, 112]          18,464\n",
      "              ReLU-9         [-1, 32, 112, 112]               0\n",
      "OneUpOneDownAutoencoder-10  [[-1, 64, 56, 56], [-1, 32, 112, 112]]               0\n",
      "           Conv2d-11          [-1, 128, 28, 28]          73,856\n",
      "             ReLU-12          [-1, 128, 28, 28]               0\n",
      "  ConvTranspose2d-13           [-1, 64, 56, 56]          73,792\n",
      "             ReLU-14           [-1, 64, 56, 56]               0\n",
      "OneUpOneDownAutoencoder-15  [[-1, 128, 28, 28], [-1, 64, 56, 56]]               0\n",
      "  ConvTranspose2d-16           [-1, 64, 56, 56]          73,792\n",
      "             ReLU-17           [-1, 64, 56, 56]               0\n",
      "SimpleDecoderLayer-18           [-1, 64, 56, 56]               0\n",
      "  ConvTranspose2d-19         [-1, 32, 112, 112]          18,464\n",
      "             ReLU-20         [-1, 32, 112, 112]               0\n",
      "SimpleDecoderLayer-21         [-1, 32, 112, 112]               0\n",
      "  ConvTranspose2d-22          [-1, 3, 224, 224]             867\n",
      "             ReLU-23          [-1, 3, 224, 224]               0\n",
      "SimpleDecoderLayer-24          [-1, 3, 224, 224]               0\n",
      "================================================================\n",
      "Total params: 279,494\n",
      "Trainable params: 279,494\n",
      "Non-trainable params: 0\n",
      "----------------------------------------------------------------\n",
      "Input size (MB): 0.57\n",
      "Forward/backward pass size (MB): 1229272.57\n",
      "Params size (MB): 1.07\n",
      "Estimated Total Size (MB): 1229274.21\n",
      "----------------------------------------------------------------\n"
     ]
    }
   ],
   "source": [
    "summary(model.cuda(), (3,224,224))"
   ]
  },
  {
   "cell_type": "code",
   "execution_count": 23,
   "metadata": {},
   "outputs": [
    {
     "name": "stdout",
     "output_type": "stream",
     "text": [
      "Files already downloaded and verified\n",
      "Files already downloaded and verified\n",
      "Train dataset len 50000, test dataset len 10000\n"
     ]
    }
   ],
   "source": [
    "train_dataset = CIFAR100(\n",
    "    '/data/standard_datasets/cifar100',\n",
    "    download=True,\n",
    "    train = True,\n",
    "    transform=transforms.Compose([\n",
    "        transforms.Resize(224),\n",
    "        transforms.ToTensor(),\n",
    "        transforms.Normalize(mean=[0.485, 0.456, 0.406], std=[0.229, 0.224, 0.225])\n",
    "    ])\n",
    ")\n",
    "test_dataset = CIFAR100(\n",
    "    '/data/standard_datasets/cifar100',\n",
    "    download=True,\n",
    "    train = False,\n",
    "    transform=transforms.Compose([\n",
    "        transforms.Resize(224),\n",
    "        transforms.ToTensor(),\n",
    "        transforms.Normalize(mean=[0.485, 0.456, 0.406], std=[0.229, 0.224, 0.225])\n",
    "    ])\n",
    ")\n",
    "print(\"Train dataset len {}, test dataset len {}\".format(\n",
    "    len(train_dataset), len(test_dataset)))"
   ]
  },
  {
   "cell_type": "code",
   "execution_count": 14,
   "metadata": {},
   "outputs": [],
   "source": [
    "criterion = nn.MSELoss()\n",
    "optimizer = torch.optim.Adam(model.parameters(), lr=learning_rate,\n",
    "                             weight_decay=1e-5)"
   ]
  },
  {
   "cell_type": "code",
   "execution_count": 19,
   "metadata": {},
   "outputs": [],
   "source": [
    "# setup tensorboard\n",
    "writer = SummaryWriter('runs/just_one_loss/cifar100')\n",
    "writer.add_graph(model, dummy_input.cuda())"
   ]
  },
  {
   "cell_type": "code",
   "execution_count": 20,
   "metadata": {},
   "outputs": [
    {
     "name": "stdout",
     "output_type": "stream",
     "text": [
      "epoch [1/100], loss:0.3223\n",
      "epoch [2/100], loss:0.6760\n",
      "epoch [3/100], loss:0.6225\n",
      "epoch [4/100], loss:0.4034\n",
      "epoch [5/100], loss:0.5592\n",
      "epoch [6/100], loss:0.4908\n",
      "epoch [7/100], loss:0.4640\n",
      "epoch [8/100], loss:0.5223\n",
      "epoch [9/100], loss:0.4836\n",
      "epoch [10/100], loss:0.3829\n",
      "epoch [11/100], loss:0.3515\n",
      "epoch [12/100], loss:0.6069\n",
      "epoch [13/100], loss:0.5629\n",
      "epoch [14/100], loss:0.4549\n",
      "epoch [15/100], loss:0.6621\n",
      "epoch [16/100], loss:0.4558\n",
      "epoch [17/100], loss:0.4343\n",
      "epoch [18/100], loss:0.5503\n",
      "epoch [19/100], loss:0.7273\n",
      "epoch [20/100], loss:0.3975\n",
      "epoch [21/100], loss:0.8669\n",
      "epoch [22/100], loss:0.3633\n",
      "epoch [23/100], loss:0.2674\n",
      "epoch [24/100], loss:0.4143\n",
      "epoch [25/100], loss:0.5546\n",
      "epoch [26/100], loss:0.6033\n",
      "epoch [27/100], loss:0.6190\n",
      "epoch [28/100], loss:0.6052\n",
      "epoch [29/100], loss:0.4825\n",
      "epoch [30/100], loss:0.6690\n",
      "epoch [31/100], loss:0.5410\n",
      "epoch [32/100], loss:0.7046\n",
      "epoch [33/100], loss:0.3864\n",
      "epoch [34/100], loss:0.5256\n",
      "epoch [35/100], loss:0.4624\n",
      "epoch [36/100], loss:0.3412\n",
      "epoch [37/100], loss:0.5703\n",
      "epoch [38/100], loss:0.5873\n",
      "epoch [39/100], loss:0.4626\n",
      "epoch [40/100], loss:0.6140\n",
      "epoch [41/100], loss:0.7478\n",
      "epoch [42/100], loss:0.4311\n",
      "epoch [43/100], loss:0.4522\n",
      "epoch [44/100], loss:0.5741\n",
      "epoch [45/100], loss:0.4326\n",
      "epoch [46/100], loss:0.5768\n",
      "epoch [47/100], loss:0.5454\n",
      "epoch [48/100], loss:0.5378\n",
      "epoch [49/100], loss:0.4552\n",
      "epoch [50/100], loss:0.4378\n",
      "epoch [51/100], loss:0.3456\n",
      "epoch [52/100], loss:0.4024\n",
      "epoch [53/100], loss:0.3323\n",
      "epoch [54/100], loss:0.3931\n",
      "epoch [55/100], loss:0.4244\n",
      "epoch [56/100], loss:0.3734\n",
      "epoch [57/100], loss:0.5198\n",
      "epoch [58/100], loss:0.4239\n",
      "epoch [59/100], loss:0.4284\n",
      "epoch [60/100], loss:0.3739\n",
      "epoch [61/100], loss:0.5147\n",
      "epoch [62/100], loss:0.4556\n",
      "epoch [63/100], loss:0.3698\n",
      "epoch [64/100], loss:0.4200\n",
      "epoch [65/100], loss:0.7667\n",
      "epoch [66/100], loss:0.5710\n",
      "epoch [67/100], loss:0.7348\n",
      "epoch [68/100], loss:0.5978\n",
      "epoch [69/100], loss:0.4710\n",
      "epoch [70/100], loss:0.4661\n",
      "epoch [71/100], loss:0.4758\n",
      "epoch [72/100], loss:0.3668\n",
      "epoch [73/100], loss:0.4529\n",
      "epoch [74/100], loss:0.4045\n",
      "epoch [75/100], loss:0.4771\n",
      "epoch [76/100], loss:0.6125\n",
      "epoch [77/100], loss:0.5709\n",
      "epoch [78/100], loss:0.4403\n",
      "epoch [79/100], loss:0.4075\n",
      "epoch [80/100], loss:0.4388\n",
      "epoch [81/100], loss:0.3800\n",
      "epoch [82/100], loss:0.4738\n",
      "epoch [83/100], loss:0.5492\n",
      "epoch [84/100], loss:0.5192\n",
      "epoch [85/100], loss:0.5525\n",
      "epoch [86/100], loss:0.6072\n",
      "epoch [87/100], loss:0.4678\n",
      "epoch [88/100], loss:0.4746\n",
      "epoch [89/100], loss:0.3976\n",
      "epoch [90/100], loss:0.4423\n",
      "epoch [91/100], loss:0.6425\n",
      "epoch [92/100], loss:0.5215\n",
      "epoch [93/100], loss:0.2476\n",
      "epoch [94/100], loss:0.5488\n",
      "epoch [95/100], loss:0.4777\n",
      "epoch [96/100], loss:0.3245\n",
      "epoch [97/100], loss:0.6519\n",
      "epoch [98/100], loss:0.1892\n",
      "epoch [99/100], loss:0.4712\n",
      "epoch [100/100], loss:0.3690\n"
     ]
    }
   ],
   "source": [
    "def train(model, dataloader, writer, \n",
    "          optimizer,\n",
    "          criterion = nn.MSELoss(),\n",
    "          num_epochs=100,\n",
    "          batch_size = 64,\n",
    "          log_loss_increment=100):\n",
    "    running_loss = 0.0\n",
    "    for epoch in range(num_epochs):\n",
    "        for i,data in enumerate(dataloader):\n",
    "            img, _ = data\n",
    "            img = torch.autograd.Variable(img).cuda()\n",
    "            # ===================forward=====================\n",
    "            _,output = model(img)\n",
    "            loss = criterion(output, img)\n",
    "            # ===================backward====================\n",
    "            optimizer.zero_grad()\n",
    "            loss.backward()\n",
    "            optimizer.step()\n",
    "            running_loss += loss.item()\n",
    "            # tensorboard\n",
    "            if i > 0 and i % log_loss_increment == 0:\n",
    "                writer.add_scalar('training loss',\n",
    "                    running_loss / log_loss_increment ,\n",
    "                    epoch * len(dataloader) + i)\n",
    "                running_loss = 0.0\n",
    "        # ===================log========================\n",
    "\n",
    "        print('epoch [{}/{}], loss:{:.4f}'.format(epoch+1, num_epochs, loss.data))"
   ]
  },
  {
   "cell_type": "markdown",
   "metadata": {},
   "source": [
    "Let's show an example of the original and reconstructed image"
   ]
  },
  {
   "cell_type": "code",
   "execution_count": 22,
   "metadata": {},
   "outputs": [
    {
     "name": "stdout",
     "output_type": "stream",
     "text": [
      "Encoded shape torch.Size([1, 128, 28, 28]), decoded shape torch.Size([1, 3, 224, 224])\n"
     ]
    },
    {
     "data": {
      "image/png": "[encoded data removed]",
      "text/plain": [
       "<Figure size 432x288 with 1 Axes>"
      ]
     },
     "metadata": {
      "needs_background": "light"
     },
     "output_type": "display_data"
    },
    {
     "data": {
      "image/png": "[encoded data removed]",
      "text/plain": [
       "<Figure size 432x288 with 1 Axes>"
      ]
     },
     "metadata": {
      "needs_background": "light"
     },
     "output_type": "display_data"
    }
   ],
   "source": [
    "data, label = train_dataset[13]\n",
    "data = data.unsqueeze(0)\n",
    "encoded, decoded = model.cuda()(data.cuda())\n",
    "\n",
    "data = data.detach().cpu()\n",
    "encoded, decoded = encoded.detach().cpu(), decoded.detach().cpu()\n",
    "print(\"Encoded shape {}, decoded shape {}\".format(encoded.shape, decoded.shape))\n",
    "\n",
    "imshow(data[0], \"Real\")\n",
    "plt.pause(0.001)\n",
    "imshow(decoded[0], \"Reconstructed\")"
   ]
  },
  {
   "cell_type": "code",
   "execution_count": 11,
   "metadata": {},
   "outputs": [],
   "source": [
    "class ClassifierFromHierarchicalExtractor(nn.Module):\n",
    "    \"\"\"\n",
    "    Given a feature extraction model, construct a classifier model with the\n",
    "    given number of outputs by adding a linear layer as head\n",
    "\n",
    "    :param extractor: A feature extraction model\n",
    "    :param int feature_dimension: The output dimension of the feature\n",
    "        vectors returned by the extractor\n",
    "    :param int class_count: The number of output classes for the classifier\n",
    "    \"\"\"\n",
    "\n",
    "    def __init__(self, extractor, class_count,\n",
    "                layer_num=None,\n",
    "                add_pooling = False):\n",
    "        super(ClassifierFromHierarchicalExtractor, self).__init__()\n",
    "        if layer_num is None:\n",
    "            layer_num = len(extractor.encoder_layers)\n",
    "            \n",
    "        self.extractor = nn.ModuleList()\n",
    "        for i in range(layer_num):\n",
    "            self.extractor.append(extractor.encoder_layers[i].encoder)\n",
    "            \n",
    "        if add_pooling:\n",
    "            self.pool = nn.AdaptiveAvgPool2d(output_size=(1, 1))\n",
    "        else:\n",
    "            self.pool = None\n",
    "            \n",
    "        feature_dimension = extractor.encoder_layers[layer_num-1].out_channels\n",
    "        self.classifier = nn.Linear(feature_dimension, class_count)\n",
    "\n",
    "    def forward(self, x):\n",
    "        for layer in self.extractor:\n",
    "            x = layer(x)\n",
    "            \n",
    "        if self.pool is not None:\n",
    "            x = self.pool(x)\n",
    "        x = torch.flatten(x, 1)\n",
    "        x = self.classifier(x)\n",
    "        return x"
   ]
  },
  {
   "cell_type": "code",
   "execution_count": 19,
   "metadata": {},
   "outputs": [],
   "source": [
    "def train_and_eval_classifier_lr(hierarchical_model,\n",
    "          train_dataset, test_dataset,\n",
    "          batch_size = 64):\n",
    "    \n",
    "    train_dataloader = torch.utils.data.DataLoader(train_dataset, batch_size=batch_size, shuffle=True)\n",
    "            \n",
    "    \n",
    "    number_of_layers = len(hierarchical_model.encoder_layers)\n",
    "    for l in range(number_of_layers):\n",
    "        feature_extractor = hierarchical_model.get_extractor(l)\n",
    "        \n",
    "        # freeze all layers \n",
    "        for name, param in feature_extractor.named_parameters():\n",
    "            param.requires_grad = False\n",
    "        \n",
    "        feature_extractor = feature_extractor.cuda()\n",
    "        feature_extractor.eval()\n",
    "        \n",
    "        all_output, all_target = None, None\n",
    "        with torch.no_grad():\n",
    "            for i,(images, target) in enumerate(train_dataloader):\n",
    "                images = images.cuda(non_blocking=True)\n",
    "                # ===================forward=====================\n",
    "                output = feature_extractor(images)\n",
    "                output = output.reshape(output.shape[0],-1).cpu()\n",
    "                \n",
    "                if all_output is None:\n",
    "                    all_output = output\n",
    "                else:\n",
    "                    all_output = np.concatenate((all_output,output), axis = 0)\n",
    "                    \n",
    "                if all_target is None:\n",
    "                    all_target = target\n",
    "                else:\n",
    "                    all_target = np.concatenate((all_target,target), axis = 0)\n",
    "            \n",
    "        classifier = linear_model.LogisticRegression(\n",
    "            solver='lbfgs', random_state=0)\n",
    "        \n",
    "        print('Fitting Logistic Regression')\n",
    "        classifier.fit(all_output, all_target)\n",
    "            \n",
    "        # now test\n",
    "        test_dataloader = torch.utils.data.DataLoader(test_dataset, batch_size=batch_size, shuffle=True)\n",
    "        y_pred, y_actual = np.array([]), np.array([])\n",
    "        with torch.no_grad():\n",
    "            for i,(images, target) in enumerate(test_dataloader):\n",
    "                images = images.cuda(non_blocking=True)\n",
    "                # ===================accuracy=====================\n",
    "                output = feature_extractor(images)\n",
    "                output = output.reshape(output.shape[0],-1).cpu()\n",
    "                preds_prob = classifier.predict_proba(output)\n",
    "                preds = np.argmax(preds_prob, axis = 1)\n",
    "                \n",
    "                y_pred = np.concatenate((y_pred,preds.flatten()))\n",
    "                y_actual = np.concatenate((y_actual,target.numpy().flatten()))\n",
    "                    \n",
    "        acc = np.sum(y_pred == y_actual)/y_pred.shape[0]\n",
    "        print(\"{} - Accuracy: {:.4f}\".format(l, acc))"
   ]
  },
  {
   "cell_type": "code",
   "execution_count": 140,
   "metadata": {},
   "outputs": [],
   "source": [
    "def train_and_eval_classifier(feature_extractor, class_count,\n",
    "          train_dataset, test_dataset,\n",
    "          optimizer_func = torch.optim.SGD,\n",
    "          learning_rate=30, # from Moco paper\n",
    "          weight_decay=0.0,\n",
    "          momentum=0.9,\n",
    "          schedule=[60,80],\n",
    "          criterion = nn.CrossEntropyLoss(),\n",
    "          num_epochs=100,\n",
    "          batch_size = 64):\n",
    "    \n",
    "    train_dataloader = torch.utils.data.DataLoader(train_dataset, batch_size=batch_size, shuffle=True)\n",
    "    def adjust_learning_rate(optimizer, epoch, lr):\n",
    "        \"\"\"\n",
    "        Decay the learning rate based on schedule\n",
    "        (From MoCO)\n",
    "        \"\"\"\n",
    "        for milestone in schedule:\n",
    "            lr *= 0.1 if epoch >= milestone else 1.\n",
    "        for param_group in optimizer.param_groups:\n",
    "            param_group['lr'] = lr\n",
    "            \n",
    "    \n",
    "    number_of_layers = len(feature_extractor.encoder_layers)\n",
    "    for l in range(number_of_layers):\n",
    "        classifier_model = ClassifierFromHierarchicalExtractor(feature_extractor, \n",
    "            layer_num = l+1,\n",
    "            class_count=class_count, add_pooling=True)\n",
    "        # freeze all layers but the last fc\n",
    "        for name, param in classifier_model.named_parameters():\n",
    "            if name not in ['classifier_model.weight', 'classifier.bias']:\n",
    "                param.requires_grad = False\n",
    "        # init the fc layer\n",
    "        classifier_model.classifier.weight.data.normal_(mean=0.0, std=0.01)\n",
    "        classifier_model.classifier.bias.data.zero_()\n",
    "        \n",
    "        \n",
    "        classifier_model = classifier_model.cuda()\n",
    "        classifier_model.eval()\n",
    "        \n",
    "        optimizer = optimizer_func(classifier_model.parameters(), \n",
    "                learning_rate, momentum, weight_decay)\n",
    "        \n",
    "        for epoch in range(num_epochs):\n",
    "            adjust_learning_rate(optimizer, epoch, learning_rate)\n",
    "            running_loss, num_samples = 0.0, 0\n",
    "            for i,(images, target) in enumerate(train_dataloader):\n",
    "                images = images.cuda(non_blocking=True)\n",
    "                target = target.cuda(non_blocking=True)\n",
    "                # ===================forward=====================\n",
    "                output = classifier_model(images)\n",
    "                loss = criterion(output, target)\n",
    "                # ===================backward====================\n",
    "                optimizer.zero_grad()\n",
    "                loss.backward()\n",
    "                optimizer.step()\n",
    "                # log\n",
    "                running_loss += loss.item()\n",
    "                num_samples += images.shape[0]\n",
    "            if epoch == (num_epochs - 1): # last epoch\n",
    "                print('{} - epoch [{}/{}], loss:{:.4f}'.format(l,epoch+1, num_epochs, running_loss/num_samples))\n",
    "            \n",
    "        # now test\n",
    "        test_dataloader = torch.utils.data.DataLoader(test_dataset, batch_size=batch_size, shuffle=True)\n",
    "        y_pred, y_actual = torch.Tensor(), torch.Tensor()\n",
    "        with torch.no_grad():\n",
    "            for i,(images, target) in enumerate(test_dataloader):\n",
    "                images = images.cuda(non_blocking=True)\n",
    "                target = target.cuda(non_blocking=True)\n",
    "                # ===================accuracy=====================\n",
    "                output = classifier_model(images)\n",
    "                _, pred = output.topk(1, 1, True, True)\n",
    "                y_pred = torch.cat((y_pred,pred.cpu().flatten()),0)\n",
    "                y_actual = torch.cat((y_actual,target.cpu().flatten()),0)\n",
    "        acc = torch.sum(y_pred == y_actual)/y_pred.shape[0]\n",
    "        print(\"{} - Accuracy: {:.4f}\".format(l, acc))"
   ]
  },
  {
   "cell_type": "code",
   "execution_count": null,
   "metadata": {},
   "outputs": [],
   "source": [
    "train_and_eval_classifier_lr(model, \n",
    "          train_dataset, test_dataset, batch_size = 1024)"
   ]
  },
  {
   "cell_type": "code",
   "execution_count": 14,
   "metadata": {},
   "outputs": [
    {
     "name": "stdout",
     "output_type": "stream",
     "text": [
      "0 - epoch [100/100], loss:0.0046\n",
      "0 - Accuracy: 0.1024\n",
      "1 - epoch [100/100], loss:0.0119\n",
      "1 - Accuracy: 0.1122\n",
      "2 - epoch [100/100], loss:0.0383\n",
      "2 - Accuracy: 0.0916\n"
     ]
    }
   ],
   "source": [
    "train_and_eval_classifier(model, 100,\n",
    "          train_dataset, test_dataset, batch_size = 1024, num_epochs = 100)"
   ]
  },
  {
   "cell_type": "code",
   "execution_count": null,
   "metadata": {},
   "outputs": [],
   "source": []
  }
 ],
 "metadata": {
  "kernelspec": {
   "display_name": "Python 3",
   "language": "python",
   "name": "python3"
  },
  "language_info": {
   "codemirror_mode": {
    "name": "ipython",
    "version": 3
   },
   "file_extension": ".py",
   "mimetype": "text/x-python",
   "name": "python",
   "nbconvert_exporter": "python",
   "pygments_lexer": "ipython3",
   "version": "3.8.6"
  }
 },
 "nbformat": 4,
 "nbformat_minor": 4
}
